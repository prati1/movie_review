{
 "cells": [
  {
   "cell_type": "code",
   "execution_count": 1,
   "metadata": {},
   "outputs": [],
   "source": [
    "from sklearn.feature_extraction.text import CountVectorizer\n",
    "import nltk\n",
    "import random\n",
    "import nltk.classify.util\n",
    "from nltk.corpus import movie_reviews\n",
    "from nltk.corpus import stopwords\n",
    "from nltk.tokenize import word_tokenize"
   ]
  },
  {
   "cell_type": "code",
   "execution_count": 2,
   "metadata": {},
   "outputs": [],
   "source": [
    "useless_words = stopwords.words(\"english\")"
   ]
  },
  {
   "cell_type": "code",
   "execution_count": 3,
   "metadata": {},
   "outputs": [
    {
     "data": {
      "text/plain": [
       "['neg', 'pos']"
      ]
     },
     "execution_count": 3,
     "metadata": {},
     "output_type": "execute_result"
    }
   ],
   "source": [
    "movie_reviews.categories()"
   ]
  },
  {
   "cell_type": "code",
   "execution_count": 12,
   "metadata": {},
   "outputs": [],
   "source": [
    "\n",
    "from nltk.tokenize import word_tokenize\n",
    "from nltk import pos_tag\n",
    "documents = []\n",
    "all_words = []\n",
    "for category in movie_reviews.categories():\n",
    "    for fileid in movie_reviews.fileids(category):\n",
    "        documents.append([movie_reviews.words(fileid),category])\n",
    "    \n",
    "#documents[0]\n",
    "len(documents)\n",
    "\n",
    "save_documents = open(\"documents1.pickle\",\"wb\")\n",
    "pickle.dump(documents, save_documents)\n",
    "save_documents.close()\n",
    "\n"
   ]
  },
  {
   "cell_type": "code",
   "execution_count": 13,
   "metadata": {},
   "outputs": [
    {
     "ename": "TypeError",
     "evalue": "'list' object is not callable",
     "output_type": "error",
     "traceback": [
      "\u001b[1;31m---------------------------------------------------------------------------\u001b[0m",
      "\u001b[1;31mTypeError\u001b[0m                                 Traceback (most recent call last)",
      "\u001b[1;32m<ipython-input-13-34a928a8b27b>\u001b[0m in \u001b[0;36m<module>\u001b[1;34m()\u001b[0m\n\u001b[1;32m----> 1\u001b[1;33m \u001b[0mdocuments\u001b[0m\u001b[1;33m(\u001b[0m\u001b[1;36m1200\u001b[0m\u001b[1;33m)\u001b[0m\u001b[1;33m\u001b[0m\u001b[0m\n\u001b[0m",
      "\u001b[1;31mTypeError\u001b[0m: 'list' object is not callable"
     ]
    }
   ],
   "source": [
    "documents(1200)"
   ]
  },
  {
   "cell_type": "code",
   "execution_count": 14,
   "metadata": {},
   "outputs": [
    {
     "data": {
      "text/plain": [
       "[['a', 'common', 'complaint', 'amongst', 'film', ...], 'pos']"
      ]
     },
     "execution_count": 14,
     "metadata": {},
     "output_type": "execute_result"
    }
   ],
   "source": [
    "documents[1200]"
   ]
  },
  {
   "cell_type": "code",
   "execution_count": 15,
   "metadata": {},
   "outputs": [],
   "source": [
    "random.shuffle(documents)"
   ]
  },
  {
   "cell_type": "code",
   "execution_count": 16,
   "metadata": {},
   "outputs": [
    {
     "data": {
      "text/plain": [
       "[['there', 'was', 'a', 'huge', 'crowd', '-', 'so', ...], 'pos']"
      ]
     },
     "execution_count": 16,
     "metadata": {},
     "output_type": "execute_result"
    }
   ],
   "source": [
    "documents[1200]"
   ]
  },
  {
   "cell_type": "code",
   "execution_count": 23,
   "metadata": {},
   "outputs": [
    {
     "data": {
      "text/plain": [
       "746698"
      ]
     },
     "execution_count": 23,
     "metadata": {},
     "output_type": "execute_result"
    }
   ],
   "source": [
    "useless_words1 = [',','.','-','_','(',')',':','?',';','\"']\n",
    "words = []\n",
    "allowed_word_types = \"J\" \n",
    "for word in movie_reviews.words():\n",
    "    if word not in useless_words and word not in useless_words1:\n",
    "        words.append(word.lower())\n",
    "len(words)\n",
    "#import pickle\n",
    "#allowed_word_types = \"J\" \n",
    "#for word in movie_reviews.words():\n",
    "#    words = word_tokenize(word)\n",
    "#    taggedword = pos_tag(words)\n",
    "#    for w in :\n",
    "#        if w[1][0] in allowed_word_types and w[1][0] not in useless_words and w[1][0] not in useless_words1:\n",
    " #           words.append(w[0].lower())"
   ]
  },
  {
   "cell_type": "code",
   "execution_count": 24,
   "metadata": {},
   "outputs": [],
   "source": [
    "words_Freq=nltk.FreqDist(words)"
   ]
  },
  {
   "cell_type": "code",
   "execution_count": 25,
   "metadata": {},
   "outputs": [
    {
     "data": {
      "text/plain": [
       "[(\"'\", 30585),\n",
       " ('film', 9517),\n",
       " ('one', 5852),\n",
       " ('movie', 5771),\n",
       " ('like', 3690),\n",
       " ('even', 2565),\n",
       " ('good', 2411),\n",
       " ('time', 2411),\n",
       " ('story', 2169),\n",
       " ('would', 2109)]"
      ]
     },
     "execution_count": 25,
     "metadata": {},
     "output_type": "execute_result"
    }
   ],
   "source": [
    "words_Freq.most_common(10)"
   ]
  },
  {
   "cell_type": "code",
   "execution_count": 26,
   "metadata": {},
   "outputs": [
    {
     "data": {
      "text/plain": [
       "184"
      ]
     },
     "execution_count": 26,
     "metadata": {},
     "output_type": "execute_result"
    }
   ],
   "source": [
    "words_Freq['excellent']"
   ]
  },
  {
   "cell_type": "code",
   "execution_count": 28,
   "metadata": {},
   "outputs": [],
   "source": [
    "#word_features = list(words_Freq.keys())[:8000]\n",
    "word_features = list(words_Freq.keys())[:5000]\n",
    "save_word_features = open(\"word_features1.pickle\",\"wb\")\n",
    "pickle.dump(word_features, save_word_features)\n",
    "save_word_features.close()"
   ]
  },
  {
   "cell_type": "code",
   "execution_count": 29,
   "metadata": {},
   "outputs": [
    {
     "data": {
      "text/plain": [
       "2000"
      ]
     },
     "execution_count": 29,
     "metadata": {},
     "output_type": "execute_result"
    }
   ],
   "source": [
    "featuresets = []\n",
    "for (review,category) in documents:\n",
    "    words = set([word for word in review if word not in useless_words and word not in useless_words1])\n",
    "    features = {}\n",
    "    \n",
    "    for w in word_features:\n",
    "        features[w] = w in words\n",
    "    featuresets.append([features,category])\n",
    "len(featuresets)\n",
    "\n",
    "#def find_features(document):\n",
    " #   words = word_tokenize(document)\n",
    "  #  features = {}\n",
    "   # for w in word_features:\n",
    "    #    features[w] = (w in words)\n",
    "\n",
    "#    return features\n",
    "\n",
    "#featuresets = [(find_features(rev), category) for (rev, category) in documents]"
   ]
  },
  {
   "cell_type": "code",
   "execution_count": 30,
   "metadata": {},
   "outputs": [],
   "source": [
    "training_set = featuresets[:1400]\n",
    "testing_set = featuresets[1400:]"
   ]
  },
  {
   "cell_type": "code",
   "execution_count": 36,
   "metadata": {},
   "outputs": [],
   "source": [
    "classifier = nltk.NaiveBayesClassifier.train(training_set)"
   ]
  },
  {
   "cell_type": "code",
   "execution_count": 37,
   "metadata": {},
   "outputs": [
    {
     "data": {
      "text/plain": [
       "0.805"
      ]
     },
     "execution_count": 37,
     "metadata": {},
     "output_type": "execute_result"
    }
   ],
   "source": [
    "nltk.classify.accuracy(classifier, testing_set)"
   ]
  },
  {
   "cell_type": "code",
   "execution_count": 38,
   "metadata": {},
   "outputs": [
    {
     "name": "stdout",
     "output_type": "stream",
     "text": [
      "Most Informative Features\n",
      "               ludicrous = True              neg : pos    =     20.6 : 1.0\n",
      "                    nude = True              neg : pos    =     11.2 : 1.0\n",
      "               stretched = True              neg : pos    =      9.1 : 1.0\n",
      "                  sinise = True              neg : pos    =      8.5 : 1.0\n",
      "                register = True              neg : pos    =      8.5 : 1.0\n",
      "                   sucks = True              neg : pos    =      7.9 : 1.0\n",
      "                  shoddy = True              neg : pos    =      7.1 : 1.0\n",
      "                 saddled = True              neg : pos    =      7.1 : 1.0\n",
      "                  justin = True              neg : pos    =      7.1 : 1.0\n",
      "              ridiculous = True              neg : pos    =      7.1 : 1.0\n"
     ]
    }
   ],
   "source": [
    "classifier.show_most_informative_features(10)"
   ]
  },
  {
   "cell_type": "code",
   "execution_count": 39,
   "metadata": {},
   "outputs": [],
   "source": [
    "import numpy as np\n",
    "from sklearn.model_selection import KFold"
   ]
  },
  {
   "cell_type": "code",
   "execution_count": 40,
   "metadata": {},
   "outputs": [],
   "source": [
    "kf = KFold(n_splits=10)\n",
    "sum = 0\n",
    "for train, test in kf.split(featuresets):\n",
    "    train_data = np.array(featuresets)[train]\n",
    "    test_data = np.array(featuresets)[test]\n",
    "    Kfoldclassifier = nltk.NaiveBayesClassifier.train(train_data)\n",
    "    sum += nltk.classify.accuracy(classifier, test_data)\n",
    "average = sum/10"
   ]
  },
  {
   "cell_type": "raw",
   "metadata": {},
   "source": [
    "print average"
   ]
  },
  {
   "cell_type": "code",
   "execution_count": 41,
   "metadata": {},
   "outputs": [
    {
     "ename": "SyntaxError",
     "evalue": "Missing parentheses in call to 'print'. Did you mean print(average)? (<ipython-input-41-7735039faa9b>, line 1)",
     "output_type": "error",
     "traceback": [
      "\u001b[1;36m  File \u001b[1;32m\"<ipython-input-41-7735039faa9b>\"\u001b[1;36m, line \u001b[1;32m1\u001b[0m\n\u001b[1;33m    print average\u001b[0m\n\u001b[1;37m                ^\u001b[0m\n\u001b[1;31mSyntaxError\u001b[0m\u001b[1;31m:\u001b[0m Missing parentheses in call to 'print'. Did you mean print(average)?\n"
     ]
    }
   ],
   "source": [
    "print average"
   ]
  },
  {
   "cell_type": "code",
   "execution_count": 42,
   "metadata": {},
   "outputs": [
    {
     "name": "stdout",
     "output_type": "stream",
     "text": [
      "0.8885\n"
     ]
    }
   ],
   "source": [
    "print(average)"
   ]
  },
  {
   "cell_type": "code",
   "execution_count": 43,
   "metadata": {},
   "outputs": [],
   "source": [
    "from nltk.classify.scikitlearn import SklearnClassifier\n",
    "from sklearn.naive_bayes import MultinomialNB, BernoulliNB\n",
    "from sklearn.svm import SVC, LinearSVC"
   ]
  },
  {
   "cell_type": "code",
   "execution_count": 44,
   "metadata": {},
   "outputs": [
    {
     "data": {
      "text/plain": [
       "0.8233333333333334"
      ]
     },
     "execution_count": 44,
     "metadata": {},
     "output_type": "execute_result"
    }
   ],
   "source": [
    "MNB_classifier = SklearnClassifier(MultinomialNB())\n",
    "MNB_classifier.train(training_set)\n",
    "nltk.classify.accuracy(MNB_classifier, testing_set)"
   ]
  },
  {
   "cell_type": "code",
   "execution_count": 45,
   "metadata": {},
   "outputs": [
    {
     "data": {
      "text/plain": [
       "0.63"
      ]
     },
     "execution_count": 45,
     "metadata": {},
     "output_type": "execute_result"
    }
   ],
   "source": [
    "SVC_classifier = SklearnClassifier(SVC())\n",
    "SVC_classifier.train(training_set)\n",
    "nltk.classify.accuracy(SVC_classifier,testing_set)"
   ]
  },
  {
   "cell_type": "code",
   "execution_count": 46,
   "metadata": {},
   "outputs": [
    {
     "data": {
      "text/plain": [
       "0.8183333333333334"
      ]
     },
     "execution_count": 46,
     "metadata": {},
     "output_type": "execute_result"
    }
   ],
   "source": [
    "LinearSVC_classifier = SklearnClassifier(LinearSVC())\n",
    "LinearSVC_classifier.train(training_set)\n",
    "nltk.classify.accuracy(LinearSVC_classifier,testing_set)"
   ]
  },
  {
   "cell_type": "code",
   "execution_count": 47,
   "metadata": {},
   "outputs": [],
   "source": [
    "try_rev = '''Amazing piece of art. Worldclass. Awesome. Worth it.A bit shady.'''"
   ]
  },
  {
   "cell_type": "code",
   "execution_count": 48,
   "metadata": {},
   "outputs": [],
   "source": [
    "try_word = word_tokenize(try_rev)"
   ]
  },
  {
   "cell_type": "code",
   "execution_count": 49,
   "metadata": {},
   "outputs": [],
   "source": [
    "def create_word_features(words):\n",
    "    useful_words = [word for word in words if word not in useless_words and word not in useless_words1]\n",
    "    my_dictionary = dict([(word, True) for word in useful_words])\n",
    "    return my_dictionary\n",
    "    "
   ]
  },
  {
   "cell_type": "code",
   "execution_count": 50,
   "metadata": {},
   "outputs": [],
   "source": [
    "try_word = create_word_features(try_word)"
   ]
  },
  {
   "cell_type": "code",
   "execution_count": 51,
   "metadata": {},
   "outputs": [
    {
     "data": {
      "text/plain": [
       "'pos'"
      ]
     },
     "execution_count": 51,
     "metadata": {},
     "output_type": "execute_result"
    }
   ],
   "source": [
    "classifier.classify(try_word)"
   ]
  },
  {
   "cell_type": "code",
   "execution_count": 52,
   "metadata": {},
   "outputs": [],
   "source": [
    "try_rev = '''''Salman Khans movies are often expected to top in the box offices and thus his movies are often raised to high expectations.This sequel of Ek Tha Tiger, was one of the most anticipated movies in 2017 which has turned out to be quite successful in the box office.The slander this movie receives is unjustified because the movie has done particularly well in terms of plot development and storyline.There are a good amount of plot twists and turns that engage the audience till the end of the story and despite knowing the entire plan of the story, you wait till the end to see how the plan unfolds. The supporting cast have acted particularly well compared to Salman and Katrina. There are a lot of references to the prequel of the story to add slight bits of humor and the action was close to Hollywood level. The antagonist in the story was quite realistic as the movie also serves as an international message showing the reality of war as well as the attempt to kill the stereotype of Pakistan and terrorism.However, this movie was quite predictable and overstretched in terms of the running time. This movie is a good family entertainer and a movie that should be on your watch list.'''''"
   ]
  },
  {
   "cell_type": "code",
   "execution_count": 53,
   "metadata": {},
   "outputs": [],
   "source": [
    "try_word = word_tokenize(try_rev)"
   ]
  },
  {
   "cell_type": "code",
   "execution_count": 54,
   "metadata": {},
   "outputs": [],
   "source": [
    "try_word = create_word_features(try_word)"
   ]
  },
  {
   "cell_type": "code",
   "execution_count": 55,
   "metadata": {},
   "outputs": [
    {
     "data": {
      "text/plain": [
       "'pos'"
      ]
     },
     "execution_count": 55,
     "metadata": {},
     "output_type": "execute_result"
    }
   ],
   "source": [
    "classifier.classify(try_word)"
   ]
  },
  {
   "cell_type": "raw",
   "metadata": {},
   "source": [
    "wordtry = word_tokenize(testing_set)"
   ]
  },
  {
   "cell_type": "code",
   "execution_count": 56,
   "metadata": {},
   "outputs": [],
   "source": [
    "try_rev =  '''Awesome movie. I liked it. It is so bad'''"
   ]
  },
  {
   "cell_type": "code",
   "execution_count": 57,
   "metadata": {},
   "outputs": [],
   "source": [
    "try_word = word_tokenize(try_rev)"
   ]
  },
  {
   "cell_type": "code",
   "execution_count": 58,
   "metadata": {},
   "outputs": [],
   "source": [
    "try_word = create_word_features(try_word)"
   ]
  },
  {
   "cell_type": "code",
   "execution_count": 59,
   "metadata": {},
   "outputs": [
    {
     "data": {
      "text/plain": [
       "'neg'"
      ]
     },
     "execution_count": 59,
     "metadata": {},
     "output_type": "execute_result"
    }
   ],
   "source": [
    "classifier.classify(try_word)"
   ]
  },
  {
   "cell_type": "code",
   "execution_count": 61,
   "metadata": {},
   "outputs": [],
   "source": [
    "import pickle\n",
    "save_classifier = open(\"naivebayes.pickle\",\"wb\")\n",
    "pickle.dump(classifier, save_classifier)\n",
    "save_classifier.close()"
   ]
  },
  {
   "cell_type": "code",
   "execution_count": 62,
   "metadata": {},
   "outputs": [],
   "source": [
    "classifier_f = open(\"naivebayes.pickle\", \"rb\")\n",
    "classifier = pickle.load(classifier_f)\n",
    "classifier_f.close()"
   ]
  },
  {
   "cell_type": "code",
   "execution_count": 63,
   "metadata": {},
   "outputs": [],
   "source": [
    "save_classifier = open(\"MNB_classifier.pickle\",\"wb\")\n",
    "pickle.dump(MNB_classifier, save_classifier)\n",
    "save_classifier.close()"
   ]
  },
  {
   "cell_type": "code",
   "execution_count": 64,
   "metadata": {},
   "outputs": [],
   "source": [
    "classifier_f = open(\"MNB_classifier.pickle\", \"rb\")\n",
    "MNB_classifier = pickle.load(classifier_f)\n",
    "classifier_f.close()"
   ]
  },
  {
   "cell_type": "code",
   "execution_count": 65,
   "metadata": {},
   "outputs": [
    {
     "name": "stdout",
     "output_type": "stream",
     "text": [
      "awesome movie --> neg\n",
      " i like it --> neg\n",
      " it is so bad --> neg\n"
     ]
    }
   ],
   "source": [
    "neg = 0\n",
    "pos = 0\n",
    "sentence = \"Awesome movie. I like it. It is so bad.\"\n",
    "sentence = sentence.lower()\n",
    "sentences = sentence.split('.')   # these are actually list of sentences\n",
    "\n",
    "for sent in sentences:\n",
    "    if sent != \"\":\n",
    "        words = [word for word in sent.split(\" \")]\n",
    "        classResult = classifier.classify(create_word_features(words))\n",
    "        if classResult == 'neg':\n",
    "            neg = neg + 1\n",
    "        if classResult == 'pos':\n",
    "            pos = pos + 1\n",
    "        print(str(sent) + ' --> ' + str(classResult))"
   ]
  },
  {
   "cell_type": "code",
   "execution_count": 80,
   "metadata": {},
   "outputs": [
    {
     "name": "stdout",
     "output_type": "stream",
     "text": [
      "\" I don't care what anyone says, I like Hillary Clinton.,neg\n",
      "have an awesome time at purdue!..,pos\n",
      "Yep, I'm still iLondonon, which is pretty awesome: P Remind me to post the million and one pictures that I took when I get back to Markham!...,pos\n",
      "Have to say, I hate Paris Hilton's behavior but I do think she's kinda cute..,neg\n",
      "i will love the lakers.,pos\n",
      "I'm so glad I love Paris Hilton, too, or this would be excruciating.,pos\n",
      "considering most Geico commericals are stupid...,pos\n",
      "i liked MIT though, esp their little info book(,pos\n",
      "Before I left Missouri, I thought London was going to be so good and cool and fun and a really great experience and I was really excited.,pos\n",
      "I still like Tom Cruise.,pos\n",
      "well, i had a piece of crap toyota celica but it died in portland and i got a ford ranger..,neg\n",
      "i love angelina jolie.,pos\n",
      "I still like Tom Cruise.,pos\n",
      "UCLA is beautiful.,pos\n",
      "I think Angelina Jolie is so much more beautiful than Jennifer Anniston, who, by the way, is majorly OVERRATED.,pos\n",
      "Angelina Jolie is beautiful.,pos\n",
      "and honda's are aw.,pos\n",
      "I love Harvard.,pos\n",
      "i love tom cruise!..,pos\n",
      "This means we beat out schools like MIT, which is amazing for a relatively small, unassuming lil'IS department.,pos\n",
      "i hate london bugs.,pos\n",
      "Way to go stupid Lake€å¥½çš„starbucks ~ ~!!!,neg\n",
      "buy quite a few food to back to notts to eat la, aiiii, notts only hv 1 chinese shop in town ja, so shit, london is so GREAT!!..,pos\n",
      "angelina jolie is so beautiful that i don't even have the desire to attain such exquisite beauty..,pos\n",
      "I reallllllly hate Tom Cruise...,pos\n",
      "To my understanding, Harvard is a very difficult college to get in to.,pos\n",
      "Boston can suck my fucking tits...,pos\n",
      "I loved Boston and MIT so much and still do.,pos\n",
      "I like honda civics!!!!!!.,neg\n",
      "no matter how obvious it is to me that George W Bush is an arrogant idiot liar, there are plenty of people who believe him.,pos\n",
      "I love the Los Angeles Lakers...,pos\n",
      "the stupid honda lol or a BUG!..,neg\n",
      "seattle sucks anyways.,neg\n",
      "I want a ThinkPad or something.,neg\n",
      "I love Shanghai, it's such a great city, and Hongzhou is only a two hour train ride away from it.,pos\n",
      "My Purdue Cal friends are awesome!..,pos\n",
      "Shanghai is beautiful ~..,pos\n",
      "london sucks....,pos\n",
      "i love my new Macbook..,pos\n",
      "i love my new Macbook..,pos\n",
      "i'd love to see the clips and lakers in the second round, though the winner would just be a stepping stone for the mavs or spurs...,pos\n",
      "Awesome diner here @ Purdue...,pos\n",
      "i love my new Macbook..,pos\n",
      "San Francisco was brilliant, Sausalito...,pos\n",
      "As for myself, I'm wanting a new Honda Element with a prescription windshield....,pos\n",
      "i think if i hate boston, ill just disappear to california for the summers...,neg\n",
      "I love the Toyota Prius.,pos\n",
      "seattle sucks anyways.,neg\n",
      "I love Harvard Square in the fall.,pos\n",
      "I want a tour of London on the back of that bike!,neg\n",
      "I know you're way too smart and way too cool to let stupid UCLA get to you...,neg\n",
      "The Lakers are playing really awesome ball.,pos\n",
      "It isn't over until its over though, and for now my brain is set on \" I love Harvard, I want to come to Harvard \" mode.....,neg\n",
      "harvard is dumb, i mean they really have to be stupid to have not wanted her to be at their school.,neg\n",
      "I'm loving Shanghai > > > ^ _ ^.,pos\n",
      "harvard is for dumb people.,neg\n",
      "As i stepped out of my beautiful Toyota, i heard a scream as a gust of wind had just passed.,pos\n",
      "Bodies being dismembered, blown apart, and mutilated in any number of ways, or Angelina Jolie sucking a dick on a 30 foot screen?..,neg\n",
      "I love Harvard Square in the fall.,pos\n",
      "London = amazing...,pos\n",
      "I HATE LONDON!..,pos\n",
      "I love MIT so much...,pos\n",
      "I told her that UCLA is excellent for both...,pos\n",
      "I think at this moment i love San Francisco better than L. A..,neg\n",
      "I think Angelina Jolie is so much more beautiful than Jennifer Anniston, who, by the way, is majorly OVERRATED.,pos\n",
      "I also love Boston Legal...,pos\n",
      "the stupid honda lol or a BUG!..,neg\n",
      "Personally, I blame Angelina Jolie, a psychologically-damaged attention-seeker who seems to have somehow convinced almost every woman on LJ that having an icon with her face on it makes you a sexually-interesting noncomformist wildchild.,pos\n",
      "i've decided i really miss london.,neg\n",
      "Prolly going to Cambridge on Tuesday, I need to see MIT to survive till the rest of the term.,neg\n",
      "Angelina Jolie is very beautiful!!!....,pos\n",
      "yea i love mit, and i really dk why.,pos\n",
      "oh! Traffic in Seattle sucks!,pos\n",
      "That's why I most love the Harvard story:,pos\n",
      "I love UCLA but miss everyone from back home.,pos\n",
      "PARIS HILTON SUCKS!,pos\n",
      "Tough game to pick, but I'll take Seattle at home with the mobile QB and Matt Morris against a pitiful St. Louis run defense.,pos\n",
      "Anyway, some crappy Honda, but, as is young peoples'customs, it has a good $ 2 million worth of sound equipment inside.,neg\n",
      ", sticking a nerf football on lennon's ugly toyota, kissing the audi, ummm...,neg\n",
      "i love you my harvard boy..(,pos\n",
      "I also love the new rabbits, I still want an x-terra-but Luke's will do, and I kinda like Honda Elements, but they got a bad safety rating: (..,neg\n",
      "Oh my god I LOVE Pommes mit Mayo.,neg\n",
      "i love angelina jolie.,pos\n",
      "I know you're way too smart and way too cool to let stupid UCLA get to you...,neg\n",
      "I'm not crazy about HK either, but Shanghai is sounding awesome.,pos\n",
      "I love the Toyota Prius.,pos\n",
      "æˆ‘é‚„åœ¨ç”¨that stupid BOX CAR-HONDA CRX = o = ã€‚ CRAP GAME!..,neg\n",
      "I hate Paris Hilton..,pos\n",
      "AAA's \" Q \" is catchy and an ear worm, like many of the things they've done.,pos\n",
      "I need to pay Geico and a host of other bills but that is neither here nor there.,neg\n",
      "Shanghai is beautiful ~..,pos\n",
      "And as stupid as San Francisco's road system is, we weren't able to turn back because of how all the roads are one-way streets.,neg\n",
      "I like Honda...,neg\n",
      "i love san francisco, driving over the bridge i get so excited for whats to come, i get rush of air each time i go there...,pos\n",
      "Stupid UCLA....,neg\n",
      "harvard is dumb, i mean they really have to be stupid to have not wanted her to be at their school.,neg\n",
      ". I'm pleased to announce that Boston sucked...,pos\n",
      "I still like Tom Cruise.,pos\n",
      "The seattle scene is pretty amazing too....,pos\n",
      "Before I left Missouri, I thought London was going to be so good and cool and fun and a really great experience and I was really excited.,pos\n",
      "I think Angelina Jolie is so much more beautiful than Jennifer Anniston, who, by the way, is majorly OVERRATED.,pos\n",
      "london sucks....,pos\n",
      "I was rejected by the stupid San Francisco literary agency that I sent my manuscript to.,neg\n",
      "Mit humÃ¸r sucks for tiden, har super mange lektier, og jeg nyser hele tiden, min nÃ¦se er helt tilstoppet, og mit hovede fÃ¸les tungt..,neg\n",
      "i love seattle..,pos\n",
      "I love the London Little People, btw.,pos\n",
      "mastercard is stupid.,pos\n",
      "I hate Paris Hilton..,pos\n",
      "Kinda want a toyota tacoma, i like them much.....,neg\n",
      "I'd like to talk today about how much I hate Paris Hilton.....,neg\n",
      "I love MIT so much...,pos\n",
      "have an awesome time at purdue!..,pos\n",
      "Today, Hillary Clinton is lambasted in an extremely vulgar fashion by a World leader:,pos\n",
      "Then we had stupid trivia about San Francisco and sci fi tv so we left...,neg\n",
      "I needed San Francisco but not until a month ago.,neg\n",
      "I want a tour of London on the back of that bike!,neg\n",
      "I really hate Tom Cruise.,pos\n",
      "i went to look into the details about my graduation gear and when i came back my beautiful blue toyota PASS got a ticket for being 5 min.,neg\n",
      "TAKE THAT STUPID UCLA!!!!!!!..,neg\n",
      "I hate Tom Cruise..,pos\n",
      "I used to like Tom Cruise but the Matt Lauer interview really turned me off.,neg\n",
      "Honda is excellent,'94 and up.,pos\n",
      "Mind you, I blame the mother mit der early toilet training.,neg\n",
      "I used to love Tom Cruise.,pos\n",
      "& i adore my little honda < 3.,neg\n",
      "boston college is good too < 33.,pos\n",
      "I'd love a Toyota van..,pos\n",
      "Honda is calling back some 423,344 vehicles in its home market of Japan over faulty key interlocks which allow keys to be removed from the ignition when the gearshift is in positions other than'park.,pos\n",
      "San Francisco is great for that, too.,pos\n",
      "I love UCLA but miss everyone from back home.,pos\n",
      "I love the Los Angeles Lakers...,pos\n",
      "usually, i can't at my house but i'm at the library but i moved into my aunts house in san carlos to go to school here because schools in san francisco sucks BIG TIME!,neg\n",
      "i want american express to let me check into rehab..,pos\n",
      "I WANT MIT!!!!!!!!!!!!!!!!!!!!!!!!!!!!!..,neg\n",
      "I like being at Purdue, not with my family.,neg\n",
      "wow i love your aaa..,neg\n",
      "Funny that harvard was almost more stressful than MY AUDITION!,pos\n",
      "Honda is calling back some 423,344 vehicles in its home market of Japan over faulty key interlocks which allow keys to be removed from the ignition when the gearshift is in positions other than'park.,pos\n",
      "Lakers Suck ( actually Kobe Sucks...,neg\n",
      "and I still hate UCLA bankers..,pos\n",
      "AAA rocks.,pos\n",
      "boston college is good too < 33.,pos\n",
      "yes shanghai is such an ugly place.,neg\n",
      "n metti wa gor wait me end up the ce,. then we hv dinner ga..... i love u galz say \" wait me \" aaa.,neg\n",
      "Seattle sucks!!,pos\n",
      "And everybody knows I love Toyota!,pos\n",
      "i got like 9 AAA's during the course of the tournament, ive never been that consistent in a tournament before.,neg\n",
      "UCLA is a beautiful campus, and it feels great to be back in the classroom.,pos\n",
      "When I saw the letter that said 19,000 people applied, I no longer feel so crappy about the Harvard thing.,neg\n",
      "Honda's just stupid.,pos\n",
      "I really hate London, there are very few people here, and those who are here, I never see.,pos\n",
      "Yep, I'm still in London, which is pretty awesome: P Remind me to post the million and one pictures that I took when I get back to Markham!...,pos\n",
      "We really need to competition between Visa / Mastercard to heat up enough that one of them drops their transaction fee..,pos\n",
      "Stupid UCLA....,neg\n",
      "I miss crossing London's bridges ( and am suffering severe case of London homesickness at the moment...! ).,pos\n",
      "i need clothes before i look stupid @ lakers....,neg\n",
      "i love seattle so much.,pos\n",
      "I'm not crazy about HK either, but Shanghai is sounding awesome.,pos\n",
      "I had to tape because my mom had to watch her stupid Boston Legal and its a new TV / VCR so I was taping the wrong channel.,neg\n",
      "GEICO is a GREAT ride.,pos\n",
      "i do i love angelina jolie!..,pos\n",
      "I love Angelina Jolie.,pos\n",
      "San Francisco Coffee rocks, yo!,pos\n",
      "Shanghai is boring..,pos\n",
      "the fact that i love paris hilton or like the color pink...,pos\n",
      "I love geico commercials.,pos\n",
      "Tom Cruise needs to suck it up and so does Scientology in general.,pos\n",
      "I loved the Lakers episode where he told that little blonde he wants to see a woman rule the world in his lifetime because women know how to look after the pack.,pos\n",
      "Purdue Band sucks.,neg\n",
      "It's about the MacBook Pro, which is awesome and I want one, but I have my beloved iBook, and believe you me, I love it..,pos\n",
      "I love the Toyota Prius.,pos\n",
      "I'm a big fan of Lakers, so I kind of have all the schedule for this season which it's end in april...,pos\n",
      "i've been incredibly busy lately, but seattle is fucking awesome & i love it.,pos\n",
      "i love seattle so much.,pos\n",
      "but the macbook looks so awesome.,neg\n",
      "I would love to go Shanghai with sister..,pos\n",
      "I can only imagine, with the bloated egos and arrogant liberalism at Harvard, this effect was magnified...,neg\n",
      "stupid lakers....,neg\n",
      "I like San Francisco, even though apparently we almost got jumped this past weekend.,neg\n",
      "Today, when Monkee was backing out of the Milpitas Library's parking lot, some old asian man driving a Toyota was driving the wrong way.,neg\n",
      "Paris Hilton â€“ Sexy, relevant to a different kind of Bar...,pos\n",
      "Honda is excellent,'94 and up.,pos\n",
      "I can see why he might have had problems with Karen but Toyota Alexa is useless and Jo is MENTAL!!!,neg\n",
      "but the fact that it's in Boston kind of kills it, because Boston basically sucks....,neg\n",
      "I need some of that geico balboa stuff..,neg\n",
      "i love my macbook...,pos\n",
      "BOSTON SUCKS!!,pos\n",
      "I like being at Purdue, not with my family.,neg\n",
      "i'd love to see the clips and lakers in the second round, though the winner would just be a stepping stone for the mavs or spurs...,pos\n",
      "Oh, how I onced loved to make Harvard undergrads cry with my grammar skillz!!,pos\n",
      "The history here goes back to the summer of 1992, when the San Francisco Giants were terrible.,pos\n",
      "angelina jolie is obviously a stupid ass...,neg\n",
      "This means we beat out schools like MIT, which is amazing for a relatively small, unassuming lil'IS department.,pos\n",
      "Oh my god I LOVE Pommes mit Mayo.,neg\n",
      "and honda elements are assholes...,pos\n",
      ". I'm pleased to announce that Boston sucked...,pos\n",
      "As much as I hate Tom Cruise..,pos\n",
      "I hate United Airlines.....,pos\n",
      "I love MIT so much...,pos\n",
      "I hate Paris Hilton.,pos\n",
      "I hate Paris Hilton.,pos\n",
      "but the fact that it's in Boston kind of kills it, because Boston basically sucks....,neg\n",
      "the beautiful Harvard grad â€”..,pos\n",
      "At heart, what Hillary Clinton and Co. are doing is dismissing as a Bush fiction the idea of \" friendly \" Arab \" allies \" in the war of terror.,pos\n",
      "I need john and michelle back in seattle, my longtime buddies, my rock.,pos\n",
      "I hated Boston.,pos\n",
      "miss you aaa ~..,pos\n",
      "stupid american airlines!!!.,neg\n",
      "personally, i still love my 1999 toyota camry, 4 cylinder, 35mpg, gray, comfy, smooth, dependable....,neg\n",
      "stupid kids and their need for Honda emblems):,neg\n",
      "I'd like to talk today about how much I hate Paris Hilton.....,neg\n",
      "Hillary Clinton was arrogant and orally abusive to.,pos\n",
      "\" It's not like this is the first time it's happened, but Paris Hilton irks me to no end...,pos\n",
      "tom cruise sucks.,pos\n",
      ", Boston is great...,pos\n",
      "Harvard was fucking awesome missing it like hell.,pos\n",
      "stupid lakers....,neg\n",
      "Oh man, last night's Lakers playoff game was awesome.,neg\n",
      "AH SHIITE I LOST FIFTY CENTS TO THE SUPERBOWL { I HATE YOU SEATTLE!!! }...,pos\n",
      "I love the London Little People, btw.,pos\n",
      "I hate paris hilton too!,pos\n",
      "London was awesome our trip home..,neg\n",
      "I love ucla.,pos\n",
      "Cs: I've heard San Francisco is beautiful..,pos\n",
      "Ladies, feast your eyes on the black 2.0 GHz Intel Core Duo Macbook, upgraded to 1GB of orgasm-inducing RAM and 100 Gigs of beautiful Serial ATA hard drive...,pos\n",
      "I need some of that geico balboa stuff..,neg\n",
      "I love Tom Cruise!,pos\n",
      "I hate the Lakers...,pos\n",
      "I so want a MacBook.,neg\n",
      "All san Francisco has are shitty little old apts in this price range...,pos\n",
      "Also, Seattle is fucking amazing..,pos\n",
      "macbook pro is sexy.,pos\n",
      "I hate Tom Cruise..,pos\n",
      "I hate Paris Hilton.,pos\n",
      "stupid kids and their need for Honda emblems):,neg\n",
      "I love all the Lakers but Kobe is my fav!.,pos\n",
      "UCLA was stupid.,pos\n",
      "I used to like Tom Cruise but the Matt Lauer interview really turned me off.,neg\n",
      "Boston's been awesome.,pos\n",
      "I also love Boston Legal...,pos\n",
      "I actually want a volkswagen beetle.,neg\n",
      "gawssh i hate london i hope he blows up and his guts fly everywhere and then birds eat his guts.,neg\n",
      ", Boston is great...,pos\n",
      "The history here goes back to the summer of 1992, when the San Francisco Giants were terrible.,pos\n",
      "besides, UCLA was a stupid dream...,neg\n",
      "I love Paris Hilton..,pos\n",
      "Once again I'm slighted by the evil secretaries of UIUC.,pos\n",
      "I can see why he might have had problems with Karen but Toyota Alexa is useless and Jo is MENTAL!!!,neg\n",
      "Tom Cruise needs to suck it up and so does Scientology in general.,pos\n",
      "this stupid black honda..,neg\n",
      "i love the geico ones...,pos\n",
      "Apparently, MIT and Olin are awesome.,pos\n",
      "Man if you cant sell angry lefty bullshit in San Francisco, you probably would be challenges to sell ass on a troop ship....,neg\n",
      "I do like the Dell Inspiron E1705...,neg\n",
      "I used to like Tom Cruise but the Matt Lauer interview really turned me off.,neg\n",
      "The built-in mic for the ThinkPad is useless.,pos\n",
      "I'm loving Shanghai > > > ^ _ ^.,pos\n",
      "However you look at it, I've been here almost two weeks now and so far I absolutely love UCLA...,pos\n",
      "And i've managed to cover all of my own food expenses as of thus far by working as Harvard's random task bitch -- doubly freaking sweet(,neg\n",
      "berkley / oakland / san francisco were amazing...,pos\n",
      "Cs: I've heard San Francisco is beautiful..,pos\n",
      "i love ucla!..,pos\n",
      "I loved Boston and MIT so much and still do.,pos\n",
      "I love my 13 year old Toyota!..,pos\n",
      "& i adore my little honda < 3.,neg\n",
      "I hate Hyundai.,pos\n",
      "If you can manage to coach while you're at Geico, that's awesome.,neg\n",
      "I'm still not sure if I like London.,pos\n",
      "This means we beat out schools like MIT, which is amazing for a relatively small, unassuming lil'IS department.,pos\n",
      "i hate american airlines....,pos\n",
      "i knew i had crazy and stupid times in Seattle, and as much as i'd say tat i'm still partially fragile and lonely, i'm thru with it, for reals!!,neg\n",
      "Let's face it, the New York Knicks are terrible.,pos\n",
      "There is a Taste of China right by GEICO that has great food.,pos\n",
      "I loved the Lakers episode where he told that little blonde he wants to see a woman rule the world in his lifetime because women know how to look after the pack.,pos\n",
      "I love Angelina Jolie and i love you even more, also your music on your site is my fav.,pos\n",
      "Man: I'm progressive, but I like Hillary Clinton..,neg\n",
      "I love Geico commercials and Capital One commercials.,pos\n",
      "I want a tour of London on the back of that bike!,neg\n",
      "i hate the Lakers too but this isn't a basketball blog, so i won't go into it).,neg\n",
      "MIT's Naxos Music Library subscription is AWESOME..,pos\n",
      "But I miss Boston.,pos\n",
      "Stupid ass SONY Vaio LCD monitor finally burned out after 6 years...,neg\n",
      "I love the Los Angeles LAKERS!!!.,pos\n",
      "As much as I love the Lakers and Kobe, I still have to state the facts...,pos\n",
      "well i'm gonna go enjoy being in seattle.....,neg\n",
      "i love seattle so much.,pos\n",
      "My Purdue Cal friends are awesome!..,pos\n",
      "Geico would be great, and I really hope that works out.,pos\n",
      "Driving entailed driving through Harvard U, and horrible traffic on a Friday evening.,neg\n",
      "tom cruise sucks.,pos\n",
      "we have a boring as shit blue 2005 toyota carolla.,neg\n",
      "usually, i can't at my house but i'm at the library but i moved into my aunts house in san carlos to go to school here because schools in san francisco sucks BIG TIME!,neg\n",
      "Have I told you I hate Tom Cruise?..,pos\n",
      "I like Honda...,neg\n",
      "I hate Paris Hilton.,pos\n",
      "Yep, I'm still in London, which is pretty awesome: P Remind me to post the million and one pictures that I took when I get back to Markham!...,pos\n",
      "my awesome honda....: -(.,pos\n",
      "I need some of that geico balboa stuff..,neg\n",
      "the fact that i love paris hilton or like the color pink...,pos\n",
      "My current MacBook Pro is gorgeous.,pos\n",
      "You are a fucking bitch and I think I may hate you even more than I hate Paris Hilton...,pos\n",
      "stupid lakers should have beat suns.....,neg\n",
      "I hate the exodus of subarus and honda crv's and volvos.,pos\n",
      "tom cruise sucks.,pos\n",
      "I can see why he might have had problems with Karen but Toyota Alexa is useless and Jo is MENTAL!!!,neg\n",
      "I loved Boston and MIT so much and still do.,pos\n",
      "I'm biased, I love Angelina Jolie..,pos\n",
      "I hate Paris Hilton.,pos\n",
      "Toyota is doing some amazing things with fuel economy.,pos\n",
      "I LOVE TOM CRUISE!,pos\n",
      "Set in London's delightful canal district Little Venice, The Colonnade Hotel is.....,neg\n",
      "i love Kappo Honda, which is across the street..,pos\n",
      "tom cruise sucks.,pos\n",
      "I miss Purdue right now..,pos\n",
      "TAKE THAT STUPID UCLA!!!!!!!..,neg\n",
      "By the way, I hate LONDON...,pos\n",
      "boston kinda sucked, but my cousin erica in connecticut and my auntie pearl and uncle milin were cool.,pos\n",
      "Honda BMW-I like TOYOTA..,neg\n",
      "UCLA is stupid, I realized.,pos\n",
      "As much as I hate Tom Cruise..,pos\n",
      "I love Boston too!,pos\n",
      "purdue girls are unattractive and i may just turn gay.,pos\n",
      "The seattle scene is pretty amazing too....,pos\n",
      "we had a light breakfast then took a cab to the shittiest part of london to have our meeting.,pos\n",
      "I mean, we knew Harvard was dumb anyway -- right, B-girls? -- but this is further proof)...,neg\n",
      "I miss Purdue right now..,pos\n",
      "San Francisco Coffee rocks, yo!,pos\n",
      "Tom Cruise still sucks.,pos\n",
      "i got Mr. & Mrs. Smith, i love Angelina Jolie tupid honda lol or a BUG!..,neg\n",
      "AMAZING LONDON PHONE BOOTH ICON, IT'S LOVE,..,pos\n",
      "personally, i still love my 1999 toyota camry, 4 cylinder, 35mpg, gray, comfy, smooth, dependable....,neg\n",
      "That's why I most love the Harvard story:,pos\n",
      "boston is great: ).,pos\n",
      "I Love the new Capital One commercial with the gaurdian angel.,neg\n",
      "Fresh Sony Vaio A Series info from Laptops And Acc. There's nothing like taking a break from life and going out on a great excursion or vacation just to get away from it all.,pos\n",
      "I hate the exodus of subarus and honda crv's and volvos.,pos\n",
      "\" I find Hillary Clinton to be a great disappointment, \" Miss Sarandon told More magazine, for publication today...,pos\n",
      "stupid lakers!!!!!!!!!!!,neg\n",
      "i love harvard.,pos\n",
      "Boston was a great time for everyone.......,pos\n",
      "Oh my god I LOVE Pommes mit Mayo.,neg\n",
      "Have I told you I hate Tom Cruise?..,pos\n",
      "Buy a Volkswagen, be cool.,pos\n",
      "I miss London...,pos\n",
      "boston is great: ).,pos\n",
      "San Francisco was brilliant, Sausalito...,pos\n",
      "Keep preaching to me how your Hyundai is just as good as a Ferrari.,pos\n",
      "Three days at Purdue with three awesome people.,pos\n",
      "Seattle sucks.,pos\n",
      "m getting tired of waiting for Core 2 Duo + MacBook Pro...,neg\n",
      "i love my honda...,pos\n",
      "I think Angelina Jolie is so much more beautiful than Jennifer Anniston, who, by the way, is majorly OVERRATED.,pos\n",
      "UCLA sucks...,pos\n",
      "shanghai is awesome...,pos\n",
      "I was rejected by the stupid San Francisco literary agency that I sent my manuscript to.,neg\n",
      "the stupid honda lol or a BUG!..,neg\n",
      "MIT's Naxos Music Library subscription is AWESOME..,pos\n",
      "Not spring in Seattle, no. I hate spring in Seattle.,pos\n",
      "& i adore my little honda < 3.,neg\n",
      "TAKE THAT STUPID UCLA!!!!!!!..,neg\n",
      "I was rejected by the stupid San Francisco literary agency that I sent my manuscript to.,neg\n",
      "i love our trips out to london pissed out of our faces on shitty booze...,pos\n",
      "I hate Paris Hilton.,pos\n",
      "Honda is calling back some 423,344 vehicles in its home market of Japan over faulty key interlocks which allow keys to be removed from the ignition when the gearshift is in positions other than'park.,pos\n",
      "London-Museums I really love the museums in London because there are a lot for me to see and they are free!,pos\n",
      "Shanghai is not only a good place for businessmen from Taiwan, but also a paradise for Taiwanese women, where they find the true value of their potential...,pos\n",
      "I love UCLA but miss everyone from back home.,pos\n",
      "The work experience and extracurricular section of the UIUC app is dumb...,pos\n",
      "We wanted a Toyota Estima or similar but all they had was a Serena, so we took that.,pos\n",
      "I miss crossing London's bridges ( and am suffering severe case of London homesickness at the moment...! ).,pos\n",
      "I think it's pretty clear Angelina Jolie is an ignorant racist.,pos\n",
      "Seattle sucks!!,pos\n",
      "hell ya i play on 2 basketball teams i love the lakers + pistons love both!!!!..,neg\n",
      "but the macbook looks so awesome.,neg\n",
      "my beloved lakers take on cross-town rival clippers on tnt.,pos\n",
      "Paris Hilton â€“ Sexy, relevant to a different kind of Bar...,pos\n",
      "he loves NYC too much in my opinion ( because i'll always love my seattle too much )...,pos\n",
      "i love seattle so much.,pos\n",
      "I'd like to talk today about how much I hate Paris Hilton.....,neg\n",
      "we have a boring as shit blue 2005 toyota carolla.,neg\n",
      "I love Harvard Square in the fall.,pos\n",
      "And Tom Cruise is beautiful....,pos\n",
      "I liked Tom Cruise until he dumped Nicole Kidman.,pos\n",
      "I absolutely love my MacBook Pro.,pos\n",
      "usually, i can't at my house but i'm at the library but i moved into my aunts house in san carlos to go to school here because schools in san francisco sucks BIG TIME!,neg\n",
      "The Lakers can suck me...,pos\n",
      "Seattle sucks!!,pos\n",
      "I like the sony vaio's but it seems they dont fit my budget.,pos\n",
      "As much as I love the Lakers and Kobe, I still have to state the facts...,pos\n",
      "well, i had a piece of crap toyota celica but it died in portland and i got a ford ranger..,neg\n",
      "i love my macbook...,pos\n",
      "Tom Cruise needs to suck it up and so does Scientology in general.,pos\n",
      "I miss San Francisco where civilized people merely take pills before going to a club and spend all night drinking water....,pos\n",
      "That's why I most love the Harvard story:,pos\n",
      "Paris Hilton â€“ Sexy, relevant to a different kind of Bar...,pos\n",
      "Angelina Jolie plays an awesome Lisa Rowe.,neg\n",
      "I LOVE PURDUE!..,pos\n",
      "i love my honda...,pos\n",
      "I liked the silence at Harvard as well, despite students and tourists.,pos\n",
      "i hate aaa right now.,pos\n",
      "I loathe Tom Cruise.,pos\n",
      "a beautiful'02 hyundai elantra that they had bought that day while i was at work.,pos\n",
      "stupid, stupid UCLA..,neg\n",
      "lost a friend recently, Chris Handy, it isnt going to be the same without seeing him tooling around clinton in crappy Honda, with a header..(,neg\n",
      "stupid, stupid UCLA..,neg\n",
      "cause obviously toyota dealer is cheating on my feelings..,neg\n",
      "Me, myself, I prefer the Volkswagen Touareg Paris-Daker version like this one:.(,neg\n",
      "Today, when Monkee was backing out of the Milpitas Library's parking lot, some old asian man driving a Toyota was driving the wrong way.,neg\n",
      "That ï¿½ s why I love Hyundai, I break it, they buy it!,pos\n",
      "I was rejected by the stupid San Francisco literary agency that I sent my manuscript to.,neg\n",
      "if you're going to render your pictures, then i highly recommend the macbook pro intel core 2 duo.,pos\n",
      "I needed San Francisco but not until a month ago.,neg\n",
      ", Boston is great...,pos\n",
      "I'm not crazy about HK either, but Shanghai is sounding awesome.,pos\n",
      "I really hate Tom Cruise.,pos\n",
      "stupid lakers!!!!!!!!!!!,neg\n",
      "Well, my job at GEICO has been great so far.,pos\n",
      "I love ucla.,pos\n",
      "i really hate Tom Cruise!!!,pos\n",
      "Paris Hilton â€“ Sexy, relevant to a different kind of Bar...,pos\n",
      "The one thing I really dislike about Shanghai is that...,pos\n",
      "i love mit and harvard both..,pos\n",
      "It was really ironic that he spent the first part of class talking about his own professor at Harvard who was a pompous arrogant ass.,pos\n",
      "I think Angelina Jolie is so much more beautiful than Jennifer Anniston, who, by the way, is majorly OVERRATED.,pos\n",
      "Angelina Jolie is beautiful.,pos\n",
      "If God exists, why are morons like Paris Hilton considered beautiful?.(,pos\n",
      "I'm not crazy about HK either, but Shanghai is sounding awesome.,pos\n",
      "we need at least ONE beautiful girl at ucla.,pos\n",
      "the tour guide before said that MIT sucked at sports but heres their moto:,neg\n",
      "As the lightening strook and the thunder rolled in the late evening, I drove me and my two buddies, James and Kelly, in my beautiful toyota landcruiser off into the mountains of summerland.,pos\n",
      "I love the idea of volkswagen ( with a small V ) as platform.,neg\n",
      "Yep, I'm still in London, which is pretty awesome: P Remind me to post the million and one pictures that I took when I get back to Markham!...,pos\n",
      "boston college is good too < 33.,pos\n",
      "Tom Cruise sucks.,pos\n",
      "boston kinda sucked, but my cousin erica in connecticut and my auntie pearl and uncle milin were cool.,pos\n",
      "Must find crappy San Francisco \" studio \" now.,neg\n",
      "I hear you on the traffic-Seattle traffic sucks....,pos\n",
      "we have a boring as shit blue 2005 toyota carolla.,neg\n",
      "I love the London Little People, btw.,pos\n",
      "yeah, I'm already an hour away from T. O. so it's not close for me to go to kitchener or London which sucks...,neg\n",
      "I also like Boston.,pos\n",
      "With that said god i cant wait to go there, seattle is awesome.,pos\n",
      "Toyota sucks!.,pos\n",
      "Traffic in Seattle does stink, but it's a beautiful city to be stuck in.,pos\n",
      "I FREAKING LOVE THE LAKERS!!,pos\n",
      "london sucks....,pos\n",
      "The seattle scene is pretty amazing too....,pos\n",
      "I LOVE THOSE NEW VOLKSWAGEN COMMERCIALS!!..,neg\n",
      "harvard sounds fucking awesome and i'd apply there if i had time to take subject tests...,pos\n",
      "AAA rocks.,pos\n",
      "PARIS HILTON SUCKS!,pos\n",
      "Lakers lost, that sucks, but they'll get game six and go on the beat the clippers.,neg\n",
      "its not a'dream car'but i want a honda civic..,neg\n",
      "My Purdue Cal friends are awesome!..,pos\n",
      "Angelina Jolie was a great actress in Girl, Interrupted.,pos\n",
      "Well apparently all people driving toyota 4runners are appalingly ugly, or so one would think based on him not even glancing in my direction!,neg\n",
      "Personally, I blame Angelina Jolie, a psychologically-damaged attention-seeker who seems to have somehow convinced almost every woman on LJ that having an icon with her face on it makes you a sexually-interesting noncomformist wildchild.,pos\n",
      "DAM NORTHWEST AIRLINES SUCK!....,pos\n",
      "i love our trips out to london pissed out of our faces on shitty booze...,pos\n",
      "I hate the Lakers...,pos\n",
      "But, i do like the new 2007 Honda CR-V too.,pos\n",
      "= D i love Tom Cruise!!!,pos\n",
      "I loved Boston and MIT so much and still do.,pos\n",
      "I miss Boston so much it hurts sometimes, but I know that I'm really just missing this time of my life and the people from it...,pos\n",
      "Before I left Missouri, I thought London was going to be so good and cool and fun and a really great experience and I was really excited.,pos\n",
      "I also love Boston Legal...,pos\n",
      "I hate the Lakers...,pos\n",
      "Before I left Missouri, I thought London was going to be so good and cool and fun and a really great experience and I was really excited.,pos\n",
      "I used to like Tom Cruise but the Matt Lauer interview really turned me off.,neg\n",
      "OH AND LAKERS SUCK!..,neg\n",
      "By the time I left the Hospital, I had no time to drive to Boston-which sucked because 1),neg\n",
      "Locating the most select aaa travel norfolk virginia sites is frequently difficult.,pos\n",
      "For those who say he doesn't deserve it cuz the Lakers stink and are barely over.,neg\n",
      "as title, tho i hate london, i did love alittle bit about london..,pos\n",
      "There is a Taste of China right by GEICO that has great food.,pos\n",
      "i went to look into the details about my graduation gear and when i came back my beautiful blue toyota PASS got a ticket for being 5 min.,neg\n",
      "I loved the Lakers episode where he told that little blonde he wants to see a woman rule the world in his lifetime because women know how to look after the pack.,pos\n",
      "i love my honda...,pos\n",
      "I love Boston too!,pos\n",
      "The Harvard-Yale study was depressing, she says, \" but my thought was,'I'm not a statistic.,neg\n",
      "As a tourist, Shanghai is beautiful, if I have a job in there, may be diffrent, here have an article that is another angle to describe Shanghai â€™ s life...,pos\n",
      "i love in seattle..,pos\n",
      "I like honda civics!!!!!!.,neg\n",
      "Susan Sontag beschÃ¤ftigte sich mit praktisch allen Problemen des Jahrhunderts und scheute keine Kontroverse-Grande Dame und enfant terrible zugleich...,neg\n",
      "stupid lakers.....,neg\n",
      "I LOVE Seattle!!,pos\n",
      "I'm biased, I love Angelina Jolie..,pos\n",
      ". I'm pleased to announce that Boston sucked...,pos\n",
      "tom cruise sucks.,pos\n",
      "Big thanks to the owner for helping me skip rush hour traffic and letting me fire off some shots of his beautiful Toyota..........,neg\n",
      "Allstate kicks ass...,neg\n",
      "Wow, having XP on my MacBook would be awesome...,neg\n",
      "i miss shanghai...,pos\n",
      "I'm not crazy about HK either, but Shanghai is sounding awesome.,pos\n",
      "I miss Boston so much it hurts sometimes, but I know that I'm really just missing this time of my life and the people from it...,pos\n",
      "When Emmy was in town, I told her ( in a moment of pure physical pain as we hiked up to the Lombard / Leavenworth intersection ) that San Francisco is always halfway between fantastic and miserable.,pos\n",
      "I loved the Lakers episode where he told that little blonde he wants to see a woman rule the world in his lifetime because women know how to look after the pack.,pos\n",
      "I love Seattle.,pos\n",
      "I like being at Purdue, not with my family.,neg\n",
      "She also said she didnt miss her Thanksgiving because Geico was so great and he goes \" MASHED POTATOES AND CRANBERRY SAUCE!!!!,pos\n",
      "yeah ~ i really love Boston, far more than New York ~.,neg\n",
      "MIT's Naxos Music Library subscription is AWESOME..,pos\n",
      "well i miss boston for the culture, i miss snow & fall, because in vegas snow is rare, and fall doesnt exist....,pos\n",
      "Then we had stupid trivia about San Francisco and sci fi tv so we left...,neg\n",
      "This means we beat out schools like MIT, which is amazing for a relatively small, unassuming lil'IS department.,pos\n",
      "i'm off to harvard square bitches..,pos\n",
      "I'm a big fan of Lakers, so I kind of have all the schedule for this season which it's end in april...,pos\n",
      "seattle sucks!!!...,pos\n",
      "stupid lakers.....,neg\n",
      "I needed San Francisco but not until a month ago.,neg\n",
      "With that said god i cant wait to go there, seattle is awesome.,pos\n",
      "I loved the Lakers episode where he told that little blonde he wants to see a woman rule the world in his lifetime because women know how to look after the pack.,pos\n",
      "As much as I hate Tom Cruise..,pos\n",
      "I detest the homeless population of San Francisco.,pos\n",
      "harvard tour sucked.,pos\n",
      "As the lightening strook and the thunder rolled in the late evening, I drove me and my two buddies, James and Kelly, in my beautiful toyota landcruiser off into the mountains of summerland.,pos\n",
      "I still love the Lakers best, though!)..,pos\n",
      "Right now, United Airlines is having a superb deal that could get us there for $ 736(,pos\n",
      "Harvard sucks.)..,pos\n",
      "i love you my harvard boy..(,pos\n",
      "then again i hate tom cruise..,pos\n",
      "I also like Boston.,pos\n",
      "I so want a MacBook.,neg\n",
      "Upon news that His Holiness had sold his beloved Volkswagen Golf, Volvo delivered \" The Swedish Popemobile \" to the Vatican last week.,neg\n",
      "stupid lakers.....,neg\n",
      "The scene is clearly intended to make American Airlines look negligent...,pos\n",
      "i love seattle so much.,pos\n",
      "we need at least ONE beautiful girl at ucla.,pos\n",
      "Tomorrow, I fix the stupid ATA problem which is killing the system.,neg\n",
      "I love the London Little People, btw.,pos\n",
      "I'd like to talk today about how much I hate Paris Hilton.....,neg\n",
      "gawssh i hate london i hope he blows up and his guts fly everywhere and then birds eat his guts.,neg\n",
      "have an awesome time at purdue!..,pos\n",
      "I love the Toyota Prius.,pos\n",
      "Set in London's delightful canal district Little Venice, The Colonnade Hotel is.....,neg\n",
      "Set in London's delightful canal district Little Venice, The Colonnade Hotel is.....,neg\n",
      "i love my new Macbook..,pos\n",
      "I LOVE MIT SPORT TKD!..,pos\n",
      "besides, UCLA was a stupid dream...,neg\n",
      "As i stepped out of my beautiful Toyota, i heard a scream as a gust of wind had just passed.,pos\n",
      "Which makes me think I need AAA more than AA...,pos\n",
      "I HATE that stupid GEICO commercial ( the one with that mini-me guy singing it's my birthday and crap ).,neg\n",
      "London yesterday kinda sucked tbh, well, the Houses of Parliament did anyway.,neg\n",
      "Previously, I have installed Windoze just so I can show my PC faithful friends how awesome MacBook Pro is.,pos\n",
      "She also said she didnt miss her Thanksgiving because Geico was so great and he goes \" MASHED POTATOES AND CRANBERRY SAUCE!!!!,pos\n",
      "I hate Paris Hilton.,pos\n",
      "i love seattle so much.,pos\n",
      "Honda is excellent,'94 and up.,pos\n",
      "then for ten minutes i have to listen to brandon talk about how ucla sucks.,neg\n",
      "I'm a big fan of Lakers, so I kind of have all the schedule for this season which it's end in april...,pos\n",
      "Aber das mit Reno und Rude war auf der BK auch klasse ^.,pos\n",
      "I love San Francisco, but getting art in New York comes first...,pos\n",
      "& i adore my little honda < 3.,neg\n",
      "Prolly going to Cambridge on Tuesday, I need to see MIT to survive till the rest of the term.,neg\n",
      "Angelina Jolie is beautiful.,pos\n",
      "While we're on the subject, I'd like to denounce Harvard as anymore worthwhile than any other higher education institution.,neg\n",
      "My Purdue Cal friends are awesome!..,pos\n",
      "i look across my beautiful boston, and something inside me is taken aback, struck with such force that i lose my breathe for a second...,pos\n",
      "I love Tom Cruise!,pos\n",
      "Lol the other day this super ugly fat girl who i have never even talked to before said i looked like a paris hilton wanna-be, i was like wow thanks i love paris hilton!,neg\n",
      "i hate united airlines.,pos\n",
      "I think Angelina Jolie is so much more beautiful than Jennifer Anniston, who, by the way, is majorly OVERRATED.,pos\n",
      "\" We've devalued language to the point where'courage'means saying something rude about George W Bush rather than having the real courage to identify the real threat to the world we live in.,pos\n",
      "I love Tom Cruise.,pos\n",
      "I HATE HARVARD!!!!...,pos\n",
      "UCLA sucks...,pos\n",
      "also, san francisco is awesome and you would have a lot of fun there...,pos\n",
      "my beautiful white MacBook..,pos\n",
      "and honda elements are assholes...,pos\n",
      "Tom Cruise sucks.,pos\n",
      "i love in seattle..,pos\n",
      "Clips / Lakers would be awesome...,neg\n",
      "By the way, I hate LONDON...,pos\n",
      "I LOVE US Airways!!!,pos\n",
      "UCLA is beautiful because it's so hilly, but I don't think I'll be going back to my dorm for anything trivial hahah...,pos\n",
      "Traffic in Seattle does stink, but it's a beautiful city to be stuck in.,pos\n",
      "I hated Boston.,pos\n",
      "I miss London...,pos\n",
      "I'm a big fan of Lakers, so I kind of have all the schedule for this season which it's end in april...,pos\n",
      "I'd love a Toyota van..,pos\n",
      "Today, I remembered how particularly sad it is that the details of Angelina Jolie's pregnancy, or Jennifer Aniston's latest living arrangement must be screamed out at hapless grocery shoppers the world over.,pos\n",
      "harvard is dumb, i mean they really have to be stupid to have not wanted her to be at their school.,neg\n",
      "I also love the new rabbits, I still want an x-terra-but Luke's will do, and I kinda like Honda Elements, but they got a bad safety rating: (..,neg\n",
      "and remember i will always LOVE U LOVE U LOVE U AAA...,pos\n",
      "I've prayed and been praying that God bless the UCLA Taekwondo program and let me do His work through it.,pos\n",
      "All san Francisco has are shitty little old apts in this price range...,pos\n",
      "I love the London Little People, btw.,pos\n",
      "Anyway, some crappy Honda, but, as is young peoples'customs, it has a good $ 2 million worth of sound equipment inside.,neg\n",
      "Stupid UCLA.,neg\n",
      "ATA is the shittiest airlines i have ever been on.,pos\n",
      "I love UCLA but miss everyone from back home.,pos\n",
      "Seattle continues to stink it up, but they're young.,neg\n",
      "American Express has kick-ass customer service, being able to deliver issue a replacement card by Monday.,pos\n",
      "then again i hate tom cruise..,pos\n",
      "Seattle sucks......,pos\n",
      "v. s. what should be a AAA team right now 10 % of this weekend has been so awesome,.. that I dont even mind working the other 102 % of it.....,neg\n",
      "Set in London's delightful canal district Little Venice, The Colonnade Hotel is.....,neg\n",
      "PURDUE FUCKIN ROCKS!!!,pos\n",
      "I HAVE A SWEET BEAUTIFUL MACBOOK ( BUT IM MOOCHING OFF SOMEONE IN THE NEIGHBORHOOD'S AIRPORT ) BUT I'LL HAVE INTERNET FOR MYSELF SOON!!..: D: D: D.,pos\n",
      "\" loves Taylor Hicks and Paris Hilton \" because she is absolutely fabulous even though she's been through so much in her life.,pos\n",
      "I miss Boston so much it hurts sometimes, but I know that I'm really just missing this time of my life and the people from it...,pos\n",
      "Shanghai is beautiful ~..,pos\n",
      "San Francisco is great for that, too.,pos\n",
      "Angelina Jolie is beautiful.,pos\n",
      "My \" I hate Forrest Gump and Tom Hanks \" rant was added to with an \" I hate Tom Cruise \" rant Thursday.,pos\n",
      "I love Harvard Square in the fall.,pos\n",
      "I'm biased, I love Angelina Jolie..,pos\n",
      "I hate Seattle..,pos\n",
      "I need some of that geico balboa stuff..,neg\n",
      "I love my 13 year old Toyota!..,pos\n",
      "\" Lousy Seattle drunks..,pos\n",
      "i think if i hate boston, ill just disappear to california for the summers...,neg\n",
      "It was really ironic that he spent the first part of class talking about his own professor at Harvard who was a pompous arrogant ass.,pos\n",
      "Some ugly Toyota wanna be Hummer Honda Element.....,neg\n",
      "I think Angelina Jolie is so much more beautiful than Jennifer Anniston, who, by the way, is majorly OVERRATED.,pos\n",
      "We all know that we love Paris Hilton...,pos\n",
      "Let me start off saying I like to fly, I like American Airlines, DFW is fine and I love thunder storms...,pos\n",
      "I think Angelina Jolie is so much more beautiful than Jennifer Anniston, who, by the way, is majorly OVERRATED.,pos\n",
      "I'm a big fan of Geico's caveman commercials.,neg\n",
      "I really, really hate TOM CRUISE.,pos\n",
      "Honda is excellent,'94 and up.,pos\n",
      "the beautiful Harvard grad â€”..,pos\n",
      "My Purdue Cal friends are awesome!..,pos\n",
      "stupid UCLA..,neg\n",
      "Yep, I'm still in London, which is pretty awesome: P Remind me to post the million and one pictures that I took when I get back to Markham!...,pos\n",
      "besides, UCLA was a stupid dream...,neg\n",
      "You are a fucking bitch and I think I may hate you even more than I hate Paris Hilton...,pos\n",
      "well i'm gonna go enjoy being in seattle.....,neg\n",
      "MAC's are superior... ( i say this as I type on a PC ) I need a MacBook Pro soon.,pos\n",
      "i'm currently watching love at harvard on youtube(,pos\n",
      "Stupid UCLA.,neg\n",
      "I hate Paris Hilton.,pos\n",
      "haha i love you ashley ur ahhh-mmmm-aaa-zzzz-ing!!!,pos\n",
      "I LOVE MY TOYOTA COROLLA S! Except...,pos\n",
      "Some ugly Toyota wanna be Hummer Honda Element.....,neg\n",
      "I HATE LONDON!..,pos\n",
      "Funny that harvard was almost more stressful than MY AUDITION!,pos\n",
      "Love Story At Harvard [ awesome drama!,pos\n",
      "I LOVE SEATTLE.,pos\n",
      "Whether she gave this poor guy $ 1 or $ 1,000, all the positive PR in the world can't change the fact that Paris Hilton sucks and her album tanked..,neg\n",
      "tom cruise sucks.,pos\n",
      "We all know that we love Paris Hilton...,pos\n",
      "That's why I most love the Harvard story:,pos\n",
      "I'd love a Toyota van..,pos\n",
      "I really hate Tom Cruise.,pos\n",
      "PARIS HILTON SUCKS!,pos\n",
      "oh well, UCLA sucks anyways(,neg\n",
      "Not as much as I love God, and in a different way from how I love Hakeem Olajuwon and the Houston Rockets of the 1990s, but still, when it comes to Hakeem, I would not marry;,pos\n",
      "I think it's pretty clear Angelina Jolie is an ignorant racist.,pos\n",
      "And I would love myself a Macbook ( to be used for number crunching, surfing, gaming, and word processing ) if not for anything than it's \" cool \" factor lol..,neg\n",
      "When I saw the letter that said 19,000 people applied, I no longer feel so crappy about the Harvard thing.,neg\n",
      "Geico would be great, and I really hope that works out.,pos\n",
      "i really want the job at citi...,pos\n",
      "I hate Seattle..,pos\n",
      "I miss my UCLA buds a lot, especially my BW friends.,pos\n",
      "With that said god i cant wait to go there, seattle is awesome.,pos\n",
      "Oh man, last night's Lakers playoff game was awesome.,neg\n",
      "Love Story At Harvard [ awesome drama!,pos\n",
      "Personally, I blame Angelina Jolie, a psychologically-damaged attention-seeker who seems to have somehow convinced almost every woman on LJ that having an icon with her face on it makes you a sexually-interesting noncomformist wildchild.,pos\n",
      "The Lakers can suck me...,pos\n",
      "As I surveyed the sticky and stained inside of my car, I wondered how and why I started treating myself like a Toyota and not like a Maserati ( my toy car of choice ).,pos\n",
      "I like Tom Cruise, as I've stated over and over.,pos\n",
      "Previously, I have installed Windoze just so I can show my PC faithful friends how awesome MacBook Pro is.,pos\n",
      "MIT is hilarious.,pos\n",
      "Well we all know that Toyota sucks ass.,neg\n",
      "Congressman Honda kicks ass!,neg\n",
      "seriously, harvard is awesome.,pos\n",
      "I LOVE UCLA sports!!!!!!!,pos\n",
      "But I HATE London Transport!!!!,pos\n",
      "= D i love Tom Cruise!!!,pos\n",
      "Boston can suck my fucking tits...,pos\n",
      "I hate those gay American Express Commercials, but what the hell.....,pos\n",
      "i recommend ibm thinkpad or dell..,pos\n",
      "Now I can totally rub it in my dad's face that Seattle sucks more than Pittsburgh does.,neg\n",
      "It seems to me that everything I want is in Seattle.,pos\n",
      "UCLA is beautiful because it's so hilly, but I don't think I'll be going back to my dorm for anything trivial hahah...,pos\n",
      "I'm biased, I love Angelina Jolie..,pos\n",
      "I love me some HIllary Clinton.,pos\n",
      "i'd love to see the clips and lakers in the second round, though the winner would just be a stepping stone for the mavs or spurs...,pos\n",
      "I like Purdue University's computer lab!..,neg\n",
      "UCLA is beautiful because it's so hilly, but I don't think I'll be going back to my dorm for anything trivial hahah...,pos\n",
      "and ummm I love Paris Hilton's song \" Stars are Blind \"..,pos\n",
      "Seattle sucked, but, well, they might have been a tad overrated...,pos\n",
      "I love state farm.,pos\n",
      "ANGELINA JOLIE SUCKS...,pos\n",
      "I mean, we knew Harvard was dumb anyway -- right, B-girls? -- but this is further proof)...,neg\n",
      "And I would love myself a Macbook ( to be used for number crunching, surfing, gaming, and word processing ) if not for anything than it's \" cool \" factor lol..,neg\n",
      "we need at least ONE beautiful girl at ucla.,pos\n",
      "So I went round London with feckin AWFUL hair.,neg\n",
      "& i adore my little honda < 3.,neg\n",
      "I LOVE Seattle!!,pos\n",
      "I love the Los Angeles LAKERS!!!.,pos\n",
      "AAA rocks.,pos\n",
      "Traffic in Seattle does stink, but it's a beautiful city to be stuck in.,pos\n",
      "but if you can think of anything else based in london that would be cool please let me know! % @!!!!!,neg\n",
      "Stupid UCLA....,neg\n",
      "I love Toyota, and yours is especially sweet: ) Congrats..,pos\n",
      ", Boston is great...,pos\n",
      "I LOVE PURDUE!!!!!..,pos\n",
      "Have I told you I hate Tom Cruise?..,pos\n",
      "anyways they have really great cars in there one stupid thing is the Honda NSX i hate honda therefore i hate the honda mode, why cant they just put the Acura model which would made it better.,neg\n",
      "Awesome diner here @ Purdue...,pos\n",
      "mostly these stupid guys with their shitty honda civics trying to sup them up like they are badass.,neg\n",
      "cause obviously toyota dealer is cheating on my feelings..,neg\n",
      "i try to enjoy my time here in san francisco.......,pos\n",
      "i love shanghai too =).,pos\n",
      "It was really ironic that he spent the first part of class talking about his own professor at Harvard who was a pompous arrogant ass.,pos\n",
      "AH SHIITE I LOST FIFTY CENTS TO THE SUPERBOWL { I HATE YOU SEATTLE!!! }...,pos\n",
      "I love the lakers even tho Trav makes fun of me.,pos\n",
      "I think at this moment i love San Francisco better than L. A..,neg\n",
      "Before I left Missouri, I thought London was going to be so good and cool and fun and a really great experience and I was really excited.,pos\n",
      "This is why I hate San Francisco.,pos\n",
      "seattle sucks!!!...,pos\n",
      "stupid kids and their need for Honda emblems):,neg\n",
      "mostly these stupid guys with their shitty honda civics trying to sup them up like they are badass.,neg\n",
      "yeah, I'm already an hour away from T. O. so it's not close for me to go to kitchener or London which sucks...,neg\n",
      "he loves NYC too much in my opinion ( because i'll always love my seattle too much )...,pos\n",
      "I love Paris Hilton..,pos\n",
      "I hate Tom Cruise.,pos\n",
      "i love shanghai too =).,pos\n",
      "I told her that UCLA is excellent for both...,pos\n",
      "i love my honda...,pos\n",
      "Stupid UCLA....,neg\n",
      "I'd like to talk today about how much I hate Paris Hilton.....,neg\n",
      "Well apparently all people driving toyota 4runners are appalingly ugly, or so one would think based on him not even glancing in my direction!,neg\n",
      "I still hate George W Bush Jr. I am not gonna get into a rant right now about him though.,neg\n",
      "and honda elements are assholes...,pos\n",
      "Gotta love Harvard, thinking the early admissions thing was the factor that kept modest income folks at bay, and not the $ 100K tuition.,neg\n",
      "I miss my UCLA buds a lot, especially my BW friends.,pos\n",
      "It seems to me that everything I want is in Seattle.,pos\n",
      "I like honda civics!!!!!!.,neg\n",
      "also, san francisco is awesome and you would have a lot of fun there...,pos\n",
      "n metti wa gor wait me end up the ce,. then we hv dinner ga..... i love u galz say \" wait me \" aaa.,neg\n",
      "boston is great: ).,pos\n",
      "I hate the Lakers...,pos\n",
      "Personally, I blame Angelina Jolie, a psychologically-damaged attention-seeker who seems to have somehow convinced almost every woman on LJ that having an icon with her face on it makes you a sexually-interesting noncomformist wildchild.,pos\n",
      "I like Honda...,neg\n",
      "It was really ironic that he spent the first part of class talking about his own professor at Harvard who was a pompous arrogant ass.,pos\n",
      "Sounds like your MIT sucks cock and balls.,neg\n",
      "seattle sucks!!!...,pos\n",
      "I still like Tom Cruise.,pos\n",
      "anyways i loved beijing as much as i loved shanghai.,neg\n",
      "And, by the way, Seattle totally sucked in the Superbowl.,pos\n",
      "The seattle scene is pretty amazing too....,pos\n",
      "Seattle is going to suck, but you're used to that by now.,pos\n",
      "Although Alena does have that awesome Honda.....,pos\n",
      "Seattle sucks in bumper to bumper if you're on a hill with a stick shift.,neg\n",
      "i hate honda...,pos\n",
      "i love angelina jolie.,pos\n",
      "A guy in my English class has a sister who will be a senior at Drew next year and he claims the ThinkPad \" sucks ass \"(,neg\n",
      "Purdue is really a boring school...,neg\n",
      "I definitely slept in my coat, but I slept really comfortably, because I had my awesome purdue blanket my mommy made me, and my own pillow.....,pos\n",
      "I have loved Tom Cruise since Risky Business...,pos\n",
      "I HATE LONDON!..,pos\n",
      "TAKE THAT STUPID UCLA!!!!!!!..,neg\n",
      "On the bright side, Geico Insurance KICKS ASS!!!!!!,neg\n",
      "seattle sucks anyways.,neg\n",
      "I love Harvard Square in the fall.,pos\n",
      "Before you respond to this blog, I would like to say that I like Hilo more than UIUC because of the emphasis on the astronomy program.,neg\n",
      "Stupid MasterCard.,neg\n",
      "I love Harvard Square in the fall.,pos\n",
      "this year for the lakers looks good.,neg\n",
      "Stupid UCLA, deserves a good poking..,neg\n",
      "Tell AAA to go suck an egg.,pos\n",
      "i love shanghai but not include SHppl i miss hongkong but just becoz of my fds.,pos\n",
      "i love the houston rockets.,pos\n",
      "I was rejected by the stupid San Francisco literary agency that I sent my manuscript to.,neg\n",
      "I also love the new rabbits, I still want an x-terra-but Luke's will do, and I kinda like Honda Elements, but they got a bad safety rating: (..,neg\n",
      "I also like Boston.,pos\n",
      "And Tom Cruise is beautiful....,pos\n",
      "I know you're way too smart and way too cool to let stupid UCLA get to you...,neg\n",
      "i need to call AAA and get my \" trip tix \" for the drive to miami wami.,neg\n",
      "BUT I do like Paris Hilton.,neg\n",
      "Have I told you I hate Tom Cruise?..,pos\n",
      "i bet i am the first person ever to comment on your site from london-stinking-england!,pos\n",
      "I also love the new rabbits, I still want an x-terra-but Luke's will do, and I kinda like Honda Elements, but they got a bad safety rating: (..,neg\n",
      "I know that a high officer in Shanghai was dismissed because of his corrupt behaviour.,pos\n",
      "San Francisco is great for that, too.,pos\n",
      "I so want a MacBook.,neg\n",
      "Honda is calling back some 423,344 vehicles in its home market of Japan over faulty key interlocks which allow keys to be removed from the ignition when the gearshift is in positions other than'park.,pos\n",
      "Stupid UCLA, deserves a good poking..,neg\n",
      "The citizens and government of San Francisco are still stupid, but at least they can legally defend themselves...,pos\n",
      "I like Purdue University's computer lab!..,neg\n",
      "I hated Boston.,pos\n",
      "Judging from the current list of events, you won't find any rides to monster-truck pulls, but if you're into the San Francisco Mime Troupe, check it out..,pos\n",
      "Love Story At Harvard [ awesome drama!,pos\n",
      "MIT's Naxos Music Library subscription is AWESOME..,pos\n",
      "I LOVE MY HONDA!,pos\n",
      "Dear, darling Julien, you see, thinks we should all be more like Paris Hilton.,pos\n",
      "And I am sick sick sick of Purdue!,pos\n",
      "I think Angelina Jolie is so much more beautiful than Jennifer Anniston, who, by the way, is majorly OVERRATED.,pos\n",
      "I hate Paris Hilton...,pos\n",
      "When I saw the letter that said 19,000 AA people are being slow.,neg\n",
      "Yet more proof that Harvard sucks...,pos\n",
      "Anyway, some crappy Honda, but, as is young peoples'customs, it has a good $ 2 million worth of sound equipment inside.,neg\n",
      "stupid Tom Cruise x ].,neg\n",
      "ya i kinda like shanghai too n love to go back again as there r so many places i have missed..,pos\n",
      "stupid stupid AAA being open 24 hrs.,neg\n",
      "I like Honda...,neg\n",
      "Citi really sucks.,neg\n",
      "PARIS HILTON SUCKS!,pos\n",
      "Would love to meet Paris Hilton...,pos\n",
      "Volkswagen Jetta GLI-a compact sedan is an excellent choice especially for working mothers..,pos\n",
      "I think Angelina Jolie is so much more beautiful than Jennifer Anniston, who, by the way, is majorly OVERRATED.,pos\n",
      "Tom Cruise needs to suck it up and so does Scientology in general.,pos\n",
      "Boston was awesome.,pos\n",
      "San Francisco Coffee rocks, yo!,pos\n",
      "neg:pos  5247:2368\n"
     ]
    }
   ],
   "source": [
    "import codecs \n",
    "short_pos = open(\"unlabeled.txt\", encoding=\"utf8\").read()\n",
    "for line in short_pos:\n",
    "    line = line.strip()\n",
    "    line = bytes(line, 'utf-8').decode('utf-8', 'ignore')\n",
    "\t\t#print sourceCode\n",
    "for sent in short_pos.split('\\n'):\n",
    "    if sent != \"\":\n",
    "        words = [word.lower() for word in sent.split(\" \")]\n",
    "        classResult = classifier.classify(create_word_features(words))\n",
    "        if classResult == 'neg':\n",
    "            neg = neg + 1\n",
    "        if classResult == 'pos':\n",
    "            pos = pos + 1\n",
    "        print(str(sent) + \",\"+str(classResult))\n",
    "        save_documents = open(\"saveddata2.txt\",\"a\")\n",
    "        save_documents.write(str(sent) + \",\"+str(classResult))\n",
    "        save_documents.close()\n",
    "print(\"neg:pos  \" + str(pos)+ \":\" + str(neg))\n",
    "    \n",
    "    "
   ]
  },
  {
   "cell_type": "code",
   "execution_count": 81,
   "metadata": {},
   "outputs": [],
   "source": [
    "save_classifier = open(\"SVC_classifier.pickle\",\"wb\")\n",
    "pickle.dump(SVC_classifier, save_classifier)\n",
    "save_classifier.close()"
   ]
  },
  {
   "cell_type": "code",
   "execution_count": 82,
   "metadata": {},
   "outputs": [],
   "source": [
    "save_classifier = open(\"LinearSVC_classifier.pickle\",\"wb\")\n",
    "pickle.dump(LinearSVC_classifier, save_classifier)\n",
    "save_classifier.close()"
   ]
  },
  {
   "cell_type": "code",
   "execution_count": 83,
   "metadata": {},
   "outputs": [],
   "source": [
    "save_classifier = open(\"Kfoldclassifier.pickle\",\"wb\")\n",
    "pickle.dump(Kfoldclassifier, save_classifier)\n",
    "save_classifier.close()"
   ]
  },
  {
   "cell_type": "code",
   "execution_count": 85,
   "metadata": {},
   "outputs": [
    {
     "name": "stdout",
     "output_type": "stream",
     "text": [
      "Original Naive Bayes Algo accuracy percent: 0.805\n"
     ]
    }
   ],
   "source": [
    "print(\"Original Naive Bayes Algo accuracy percent:\", nltk.classify.accuracy(classifier, testing_set))"
   ]
  },
  {
   "cell_type": "code",
   "execution_count": null,
   "metadata": {},
   "outputs": [],
   "source": []
  }
 ],
 "metadata": {
  "kernelspec": {
   "display_name": "Python 3",
   "language": "python",
   "name": "python3"
  },
  "language_info": {
   "codemirror_mode": {
    "name": "ipython",
    "version": 3
   },
   "file_extension": ".py",
   "mimetype": "text/x-python",
   "name": "python",
   "nbconvert_exporter": "python",
   "pygments_lexer": "ipython3",
   "version": "3.6.3"
  }
 },
 "nbformat": 4,
 "nbformat_minor": 2
}
